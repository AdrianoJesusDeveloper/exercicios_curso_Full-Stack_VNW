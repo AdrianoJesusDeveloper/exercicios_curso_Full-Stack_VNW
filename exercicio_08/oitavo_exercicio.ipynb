{
 "cells": [
  {
   "cell_type": "markdown",
   "metadata": {},
   "source": [
    "![Exercicio 08](oitavo_exercicio.png)"
   ]
  },
  {
   "cell_type": "code",
   "execution_count": 2,
   "metadata": {},
   "outputs": [
    {
     "name": "stdout",
     "output_type": "stream",
     "text": [
      "A palavra radar é um palíndromo? True\n"
     ]
    }
   ],
   "source": [
    "def eh_palindromo(palavra):\n",
    "    # Compara a palavra original com ela invertida\n",
    "    return palavra == palavra[::-1] # Inverte a palavra e compara com a original\n",
    "\n",
    "# Exemplo de uso\n",
    "entrada = \"radar\"\n",
    "saida = eh_palindromo(entrada)\n",
    "print(f\"A palavra {entrada} é um palíndromo? {saida}\")\n"
   ]
  }
 ],
 "metadata": {
  "kernelspec": {
   "display_name": "Python 3",
   "language": "python",
   "name": "python3"
  },
  "language_info": {
   "codemirror_mode": {
    "name": "ipython",
    "version": 3
   },
   "file_extension": ".py",
   "mimetype": "text/x-python",
   "name": "python",
   "nbconvert_exporter": "python",
   "pygments_lexer": "ipython3",
   "version": "3.13.2"
  }
 },
 "nbformat": 4,
 "nbformat_minor": 2
}
