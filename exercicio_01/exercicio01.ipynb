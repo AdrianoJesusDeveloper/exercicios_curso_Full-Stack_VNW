{
 "cells": [
  {
   "cell_type": "markdown",
   "metadata": {},
   "source": [
    "![Exercicio 01](primeiro_exercicio.png)"
   ]
  },
  {
   "cell_type": "code",
   "execution_count": 2,
   "metadata": {},
   "outputs": [
    {
     "name": "stdout",
     "output_type": "stream",
     "text": [
      "A soma dos elementos pares é: 38\n"
     ]
    }
   ],
   "source": [
    "def soma_elementos_pares(lista):\n",
    "    soma = 0\n",
    "    for numero in lista:\n",
    "        if numero % 2 == 0:  # Verifica se o número é par\n",
    "            soma += numero\n",
    "    return soma\n",
    "\n",
    "# Exemplo de uso\n",
    "numeros = [2, 4, 10, 3, 9, 7, 15, 22]\n",
    "resultado = soma_elementos_pares(numeros)\n",
    "print(f\"A soma dos elementos pares é: {resultado}\")"
   ]
  }
 ],
 "metadata": {
  "kernelspec": {
   "display_name": "Python 3",
   "language": "python",
   "name": "python3"
  },
  "language_info": {
   "codemirror_mode": {
    "name": "ipython",
    "version": 3
   },
   "file_extension": ".py",
   "mimetype": "text/x-python",
   "name": "python",
   "nbconvert_exporter": "python",
   "pygments_lexer": "ipython3",
   "version": "3.13.2"
  }
 },
 "nbformat": 4,
 "nbformat_minor": 2
}
