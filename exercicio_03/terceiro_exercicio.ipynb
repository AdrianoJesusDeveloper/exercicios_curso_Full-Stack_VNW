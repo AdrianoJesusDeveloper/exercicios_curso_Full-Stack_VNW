{
 "cells": [
  {
   "cell_type": "markdown",
   "metadata": {},
   "source": [
    "![Exercício 03](terceiro_exercício.png)"
   ]
  },
  {
   "cell_type": "code",
   "execution_count": 6,
   "metadata": {},
   "outputs": [
    {
     "name": "stdout",
     "output_type": "stream",
     "text": [
      "Caractere | Ocorrências\n",
      "-----------------------\n",
      "   e     |     4\n",
      "   u     |     3\n",
      "         |     5\n",
      "   s     |     3\n",
      "   o     |     4\n",
      "   d     |     2\n",
      "   n     |     1\n",
      "   v     |     2\n",
      "   l     |     3\n",
      "   r     |     2\n",
      "   f     |     1\n",
      "   t     |     1\n",
      "   a     |     1\n",
      "   c     |     1\n",
      "   k     |     1\n"
     ]
    }
   ],
   "source": [
    "def contar_ocorrencias(string):\n",
    "    ocorrencias = {}\n",
    "    for caractere in string:\n",
    "        if caractere in ocorrencias:\n",
    "            ocorrencias[caractere] += 1  # Incrementa o contador\n",
    "        else:\n",
    "            ocorrencias[caractere] = 1  # Inicializa o contador\n",
    "\n",
    "    # Exibe o resultado em forma de coluna\n",
    "    print(\"Caractere | Ocorrências\")\n",
    "    print(\"-----------------------\")\n",
    "    for caractere, quantidade in ocorrencias.items():\n",
    "        print(f\"   {caractere}     |     {quantidade}\")\n",
    "\n",
    "# Exemplo de uso\n",
    "texto = \"eu sou desenvolvedoror  full stack\" # Só pro meu subconsciente acreditar que eu sou então todo meu corpo vai acreditar \n",
    "contar_ocorrencias(texto)\n"
   ]
  }
 ],
 "metadata": {
  "kernelspec": {
   "display_name": "Python 3",
   "language": "python",
   "name": "python3"
  },
  "language_info": {
   "codemirror_mode": {
    "name": "ipython",
    "version": 3
   },
   "file_extension": ".py",
   "mimetype": "text/x-python",
   "name": "python",
   "nbconvert_exporter": "python",
   "pygments_lexer": "ipython3",
   "version": "3.13.2"
  }
 },
 "nbformat": 4,
 "nbformat_minor": 2
}
