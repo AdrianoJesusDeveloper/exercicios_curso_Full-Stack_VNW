{
 "cells": [
  {
   "cell_type": "markdown",
   "metadata": {},
   "source": [
    "![Exercicio03](quarto_exercicio.png)"
   ]
  },
  {
   "cell_type": "code",
   "execution_count": 4,
   "metadata": {},
   "outputs": [
    {
     "name": "stdout",
     "output_type": "stream",
     "text": [
      "Contagem de palavras:\n",
      "banana: 2\n",
      "maçã: 3\n",
      "laranjan: 1\n"
     ]
    }
   ],
   "source": [
    "def contar_ocorrencias_palavras(string):\n",
    "    # Converte a string para minúsculas e divide em palavras\n",
    "    palavras = string.lower().split()\n",
    "    ocorrencias = {}\n",
    "\n",
    "    for palavra in palavras:\n",
    "        if palavra in ocorrencias:\n",
    "            ocorrencias[palavra] += 1  # Incrementa o contador\n",
    "        else:\n",
    "            ocorrencias[palavra] = 1  # Inicializa o contador\n",
    "\n",
    "    return ocorrencias\n",
    "\n",
    "# Exemplo de uso\n",
    "texto = \" banana maçã banana laranja maçã maçã\"\n",
    "resultado = contar_ocorrencias_palavras(texto)\n",
    "\n",
    "print(\"Contagem de palavras:\")\n",
    "for palavra, quantidade in resultado.items():\n",
    "    print(f\"{palavra}: {quantidade}\")"
   ]
  }
 ],
 "metadata": {
  "kernelspec": {
   "display_name": "Python 3",
   "language": "python",
   "name": "python3"
  },
  "language_info": {
   "codemirror_mode": {
    "name": "ipython",
    "version": 3
   },
   "file_extension": ".py",
   "mimetype": "text/x-python",
   "name": "python",
   "nbconvert_exporter": "python",
   "pygments_lexer": "ipython3",
   "version": "3.13.2"
  }
 },
 "nbformat": 4,
 "nbformat_minor": 2
}
