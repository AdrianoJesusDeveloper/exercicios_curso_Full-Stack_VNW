{
 "cells": [
  {
   "cell_type": "markdown",
   "metadata": {},
   "source": [
    "![Exercicio 05](sexto_exercicio.png)"
   ]
  },
  {
   "cell_type": "code",
   "execution_count": 1,
   "metadata": {},
   "outputs": [
    {
     "name": "stdout",
     "output_type": "stream",
     "text": [
      "Chave | Valor\n",
      "________________\n",
      "a | 5\n",
      "b | 17\n",
      "c | 12\n",
      "d | 12\n"
     ]
    }
   ],
   "source": [
    "def combinar_dicionarios(dict1, dict2):\n",
    "    combinado = {}\n",
    "\n",
    "    # Soma os valores das chaves que aparecem em ambos os dicionários\n",
    "    for chave in dict1:\n",
    "        combinado[chave] = dict1.get(chave, 0) + dict2.get(chave, 0)\n",
    "    for chave in dict2:\n",
    "        if chave not in combinado:\n",
    "            combinado[chave] = dict2[chave]\n",
    "\n",
    "    # Exibe o resultado em forma de coluna\n",
    "    print(\"Chave | Valor\")\n",
    "    print(\"_\"*16)\n",
    "    for chave, valor in combinado.items():\n",
    "        print(f\"{chave:<{len(chave)}} | {valor}\")\n",
    "\n",
    "# Exemplo de uso\n",
    "dicionario1 = {\"a\": 5, \"b\": 10, \"c\": 8}\n",
    "dicionario2 = {\"b\": 7, \"c\": 4, \"d\": 12}\n",
    "combinar_dicionarios(dicionario1, dicionario2)"
   ]
  }
 ],
 "metadata": {
  "kernelspec": {
   "display_name": "Python 3",
   "language": "python",
   "name": "python3"
  },
  "language_info": {
   "codemirror_mode": {
    "name": "ipython",
    "version": 3
   },
   "file_extension": ".py",
   "mimetype": "text/x-python",
   "name": "python",
   "nbconvert_exporter": "python",
   "pygments_lexer": "ipython3",
   "version": "3.13.2"
  }
 },
 "nbformat": 4,
 "nbformat_minor": 2
}
