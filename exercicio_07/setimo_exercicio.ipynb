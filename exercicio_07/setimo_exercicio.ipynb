{
 "cells": [
  {
   "cell_type": "markdown",
   "metadata": {},
   "source": [
    "![Exercicio 07](setimo_exercicio.png)"
   ]
  },
  {
   "cell_type": "code",
   "execution_count": 3,
   "metadata": {},
   "outputs": [
    {
     "name": "stdout",
     "output_type": "stream",
     "text": [
      "Os três números mais frequentes são: [2, 1, 4]\n"
     ]
    }
   ],
   "source": [
    "from collections import Counter\n",
    "\n",
    "def tres_numeros_mais_frequentes(lista):\n",
    "    # Conta as ocorrências de cada número\n",
    "    contagem = Counter(lista)\n",
    "    # Ordena os números por frequência decrescente e, em caso de empate, pelo valor numérico crescente\n",
    "    ordenado = sorted(contagem.items(), key=lambda x: (-x[1], x[0])) #Pesquisar sobre função lambda lambda\n",
    "       \n",
    "    # Retorna os três primeiros números\n",
    "    return [num for num, freq in ordenado[:3]]\n",
    "\n",
    "# Exemplo de uso\n",
    "numeros = [1, 3, 3, 2, 1, 1, 4, 4, 4, 2, 2, 2, 5, 5]\n",
    "resultado = tres_numeros_mais_frequentes(numeros)\n",
    "print(\"Os três números mais frequentes são:\", resultado)\n"
   ]
  }
 ],
 "metadata": {
  "kernelspec": {
   "display_name": "Python 3",
   "language": "python",
   "name": "python3"
  },
  "language_info": {
   "codemirror_mode": {
    "name": "ipython",
    "version": 3
   },
   "file_extension": ".py",
   "mimetype": "text/x-python",
   "name": "python",
   "nbconvert_exporter": "python",
   "pygments_lexer": "ipython3",
   "version": "3.13.2"
  }
 },
 "nbformat": 4,
 "nbformat_minor": 2
}
