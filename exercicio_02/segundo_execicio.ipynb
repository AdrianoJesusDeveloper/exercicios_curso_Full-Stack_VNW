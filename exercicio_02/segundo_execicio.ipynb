{
 "cells": [
  {
   "cell_type": "markdown",
   "metadata": {},
   "source": [
    "![Exercicio 02](segundo_exercicio.png)"
   ]
  },
  {
   "cell_type": "code",
   "execution_count": 4,
   "metadata": {},
   "outputs": [
    {
     "name": "stdout",
     "output_type": "stream",
     "text": [
      "Lista ordenada: [('Carol', 15), ('João', 16), ('Kleber', 17), ('Samuel', 18), ('Karine', 19)]\n"
     ]
    }
   ],
   "source": [
    "def ordenar_por_idade(lista):\n",
    "    # Usa sorted() com key para ordenar pela idade (índice 1 da tupla)\n",
    "    return sorted(lista, key=lambda pessoa: pessoa[1])\n",
    "\n",
    "# Exemplo de uso\n",
    "pessoas = [(\"Carol\", 15), (\"Samuel\", 18), (\"Karine\", 19), (\"Kleber\",17),(\"João\", 16)]\n",
    "resultado = ordenar_por_idade(pessoas)\n",
    "print(\"Lista ordenada:\", resultado)\n"
   ]
  }
 ],
 "metadata": {
  "kernelspec": {
   "display_name": "Python 3",
   "language": "python",
   "name": "python3"
  },
  "language_info": {
   "codemirror_mode": {
    "name": "ipython",
    "version": 3
   },
   "file_extension": ".py",
   "mimetype": "text/x-python",
   "name": "python",
   "nbconvert_exporter": "python",
   "pygments_lexer": "ipython3",
   "version": "3.13.2"
  }
 },
 "nbformat": 4,
 "nbformat_minor": 2
}
